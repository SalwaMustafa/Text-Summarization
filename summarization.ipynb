{
 "cells": [
  {
   "cell_type": "code",
   "execution_count": 2,
   "metadata": {
    "_cell_guid": "b1076dfc-b9ad-4769-8c92-a6c4dae69d19",
    "_uuid": "8f2839f25d086af736a60e9eeb907d3b93b6e0e5",
    "execution": {
     "iopub.execute_input": "2025-02-10T18:07:59.897980Z",
     "iopub.status.busy": "2025-02-10T18:07:59.897718Z",
     "iopub.status.idle": "2025-02-10T18:08:04.487886Z",
     "shell.execute_reply": "2025-02-10T18:08:04.487066Z",
     "shell.execute_reply.started": "2025-02-10T18:07:59.897960Z"
    },
    "trusted": true
   },
   "outputs": [
    {
     "name": "stdout",
     "output_type": "stream",
     "text": [
      "Requirement already satisfied: torch in /usr/local/lib/python3.10/dist-packages (2.5.1+cu121)\n",
      "Requirement already satisfied: datasets in /usr/local/lib/python3.10/dist-packages (3.2.0)\n",
      "Collecting evaluate\n",
      "  Downloading evaluate-0.4.3-py3-none-any.whl.metadata (9.2 kB)\n",
      "Requirement already satisfied: transformers in /usr/local/lib/python3.10/dist-packages (4.47.0)\n",
      "Requirement already satisfied: filelock in /usr/local/lib/python3.10/dist-packages (from torch) (3.17.0)\n",
      "Requirement already satisfied: typing-extensions>=4.8.0 in /usr/local/lib/python3.10/dist-packages (from torch) (4.12.2)\n",
      "Requirement already satisfied: networkx in /usr/local/lib/python3.10/dist-packages (from torch) (3.4.2)\n",
      "Requirement already satisfied: jinja2 in /usr/local/lib/python3.10/dist-packages (from torch) (3.1.4)\n",
      "Requirement already satisfied: fsspec in /usr/local/lib/python3.10/dist-packages (from torch) (2024.9.0)\n",
      "Requirement already satisfied: sympy==1.13.1 in /usr/local/lib/python3.10/dist-packages (from torch) (1.13.1)\n",
      "Requirement already satisfied: mpmath<1.4,>=1.1.0 in /usr/local/lib/python3.10/dist-packages (from sympy==1.13.1->torch) (1.3.0)\n",
      "Requirement already satisfied: numpy>=1.17 in /usr/local/lib/python3.10/dist-packages (from datasets) (1.26.4)\n",
      "Requirement already satisfied: pyarrow>=15.0.0 in /usr/local/lib/python3.10/dist-packages (from datasets) (19.0.0)\n",
      "Requirement already satisfied: dill<0.3.9,>=0.3.0 in /usr/local/lib/python3.10/dist-packages (from datasets) (0.3.8)\n",
      "Requirement already satisfied: pandas in /usr/local/lib/python3.10/dist-packages (from datasets) (2.2.3)\n",
      "Requirement already satisfied: requests>=2.32.2 in /usr/local/lib/python3.10/dist-packages (from datasets) (2.32.3)\n",
      "Requirement already satisfied: tqdm>=4.66.3 in /usr/local/lib/python3.10/dist-packages (from datasets) (4.67.1)\n",
      "Requirement already satisfied: xxhash in /usr/local/lib/python3.10/dist-packages (from datasets) (3.5.0)\n",
      "Requirement already satisfied: multiprocess<0.70.17 in /usr/local/lib/python3.10/dist-packages (from datasets) (0.70.16)\n",
      "Requirement already satisfied: aiohttp in /usr/local/lib/python3.10/dist-packages (from datasets) (3.11.11)\n",
      "Requirement already satisfied: huggingface-hub>=0.23.0 in /usr/local/lib/python3.10/dist-packages (from datasets) (0.28.1)\n",
      "Requirement already satisfied: packaging in /usr/local/lib/python3.10/dist-packages (from datasets) (24.2)\n",
      "Requirement already satisfied: pyyaml>=5.1 in /usr/local/lib/python3.10/dist-packages (from datasets) (6.0.2)\n",
      "Requirement already satisfied: regex!=2019.12.17 in /usr/local/lib/python3.10/dist-packages (from transformers) (2024.11.6)\n",
      "Requirement already satisfied: tokenizers<0.22,>=0.21 in /usr/local/lib/python3.10/dist-packages (from transformers) (0.21.0)\n",
      "Requirement already satisfied: safetensors>=0.4.1 in /usr/local/lib/python3.10/dist-packages (from transformers) (0.4.5)\n",
      "Requirement already satisfied: aiohappyeyeballs>=2.3.0 in /usr/local/lib/python3.10/dist-packages (from aiohttp->datasets) (2.4.4)\n",
      "Requirement already satisfied: aiosignal>=1.1.2 in /usr/local/lib/python3.10/dist-packages (from aiohttp->datasets) (1.3.2)\n",
      "Requirement already satisfied: async-timeout<6.0,>=4.0 in /usr/local/lib/python3.10/dist-packages (from aiohttp->datasets) (5.0.1)\n",
      "Requirement already satisfied: attrs>=17.3.0 in /usr/local/lib/python3.10/dist-packages (from aiohttp->datasets) (25.1.0)\n",
      "Requirement already satisfied: frozenlist>=1.1.1 in /usr/local/lib/python3.10/dist-packages (from aiohttp->datasets) (1.5.0)\n",
      "Requirement already satisfied: multidict<7.0,>=4.5 in /usr/local/lib/python3.10/dist-packages (from aiohttp->datasets) (6.1.0)\n",
      "Requirement already satisfied: propcache>=0.2.0 in /usr/local/lib/python3.10/dist-packages (from aiohttp->datasets) (0.2.1)\n",
      "Requirement already satisfied: yarl<2.0,>=1.17.0 in /usr/local/lib/python3.10/dist-packages (from aiohttp->datasets) (1.18.3)\n",
      "Requirement already satisfied: mkl_fft in /usr/local/lib/python3.10/dist-packages (from numpy>=1.17->datasets) (1.3.8)\n",
      "Requirement already satisfied: mkl_random in /usr/local/lib/python3.10/dist-packages (from numpy>=1.17->datasets) (1.2.4)\n",
      "Requirement already satisfied: mkl_umath in /usr/local/lib/python3.10/dist-packages (from numpy>=1.17->datasets) (0.1.1)\n",
      "Requirement already satisfied: mkl in /usr/local/lib/python3.10/dist-packages (from numpy>=1.17->datasets) (2025.0.1)\n",
      "Requirement already satisfied: tbb4py in /usr/local/lib/python3.10/dist-packages (from numpy>=1.17->datasets) (2022.0.0)\n",
      "Requirement already satisfied: mkl-service in /usr/local/lib/python3.10/dist-packages (from numpy>=1.17->datasets) (2.4.1)\n",
      "Requirement already satisfied: charset-normalizer<4,>=2 in /usr/local/lib/python3.10/dist-packages (from requests>=2.32.2->datasets) (3.4.1)\n",
      "Requirement already satisfied: idna<4,>=2.5 in /usr/local/lib/python3.10/dist-packages (from requests>=2.32.2->datasets) (3.10)\n",
      "Requirement already satisfied: urllib3<3,>=1.21.1 in /usr/local/lib/python3.10/dist-packages (from requests>=2.32.2->datasets) (2.3.0)\n",
      "Requirement already satisfied: certifi>=2017.4.17 in /usr/local/lib/python3.10/dist-packages (from requests>=2.32.2->datasets) (2025.1.31)\n",
      "Requirement already satisfied: MarkupSafe>=2.0 in /usr/local/lib/python3.10/dist-packages (from jinja2->torch) (3.0.2)\n",
      "Requirement already satisfied: python-dateutil>=2.8.2 in /usr/local/lib/python3.10/dist-packages (from pandas->datasets) (2.9.0.post0)\n",
      "Requirement already satisfied: pytz>=2020.1 in /usr/local/lib/python3.10/dist-packages (from pandas->datasets) (2025.1)\n",
      "Requirement already satisfied: tzdata>=2022.7 in /usr/local/lib/python3.10/dist-packages (from pandas->datasets) (2025.1)\n",
      "Requirement already satisfied: six>=1.5 in /usr/local/lib/python3.10/dist-packages (from python-dateutil>=2.8.2->pandas->datasets) (1.17.0)\n",
      "Requirement already satisfied: intel-openmp>=2024 in /usr/local/lib/python3.10/dist-packages (from mkl->numpy>=1.17->datasets) (2024.2.0)\n",
      "Requirement already satisfied: tbb==2022.* in /usr/local/lib/python3.10/dist-packages (from mkl->numpy>=1.17->datasets) (2022.0.0)\n",
      "Requirement already satisfied: tcmlib==1.* in /usr/local/lib/python3.10/dist-packages (from tbb==2022.*->mkl->numpy>=1.17->datasets) (1.2.0)\n",
      "Requirement already satisfied: intel-cmplr-lib-rt in /usr/local/lib/python3.10/dist-packages (from mkl_umath->numpy>=1.17->datasets) (2024.2.0)\n",
      "Requirement already satisfied: intel-cmplr-lib-ur==2024.2.0 in /usr/local/lib/python3.10/dist-packages (from intel-openmp>=2024->mkl->numpy>=1.17->datasets) (2024.2.0)\n",
      "Downloading evaluate-0.4.3-py3-none-any.whl (84 kB)\n",
      "\u001b[2K   \u001b[90m━━━━━━━━━━━━━━━━━━━━━━━━━━━━━━━━━━━━━━━━\u001b[0m \u001b[32m84.0/84.0 kB\u001b[0m \u001b[31m3.4 MB/s\u001b[0m eta \u001b[36m0:00:00\u001b[0m\n",
      "\u001b[?25hInstalling collected packages: evaluate\n",
      "Successfully installed evaluate-0.4.3\n"
     ]
    }
   ],
   "source": [
    "!pip install torch datasets evaluate transformers"
   ]
  },
  {
   "cell_type": "code",
   "execution_count": 3,
   "metadata": {
    "execution": {
     "iopub.execute_input": "2025-02-10T18:08:04.489493Z",
     "iopub.status.busy": "2025-02-10T18:08:04.489168Z",
     "iopub.status.idle": "2025-02-10T18:08:12.128654Z",
     "shell.execute_reply": "2025-02-10T18:08:12.128009Z",
     "shell.execute_reply.started": "2025-02-10T18:08:04.489461Z"
    },
    "trusted": true
   },
   "outputs": [],
   "source": [
    "from transformers import AutoTokenizer, AutoModelForSeq2SeqLM"
   ]
  },
  {
   "cell_type": "code",
   "execution_count": 4,
   "metadata": {
    "execution": {
     "iopub.execute_input": "2025-02-10T18:08:12.130189Z",
     "iopub.status.busy": "2025-02-10T18:08:12.129792Z",
     "iopub.status.idle": "2025-02-10T18:08:12.134108Z",
     "shell.execute_reply": "2025-02-10T18:08:12.133214Z",
     "shell.execute_reply.started": "2025-02-10T18:08:12.130160Z"
    },
    "trusted": true
   },
   "outputs": [],
   "source": [
    "checkpoint = \"mrm8488/t5-base-finetuned-summarize-news\""
   ]
  },
  {
   "cell_type": "code",
   "execution_count": 5,
   "metadata": {
    "execution": {
     "iopub.execute_input": "2025-02-10T18:08:12.136203Z",
     "iopub.status.busy": "2025-02-10T18:08:12.135760Z",
     "iopub.status.idle": "2025-02-10T18:08:14.073432Z",
     "shell.execute_reply": "2025-02-10T18:08:14.072763Z",
     "shell.execute_reply.started": "2025-02-10T18:08:12.136171Z"
    },
    "trusted": true
   },
   "outputs": [
    {
     "data": {
      "application/vnd.jupyter.widget-view+json": {
       "model_id": "f7989df0eabb4744998745ace54bc581",
       "version_major": 2,
       "version_minor": 0
      },
      "text/plain": [
       "tokenizer_config.json:   0%|          | 0.00/25.0 [00:00<?, ?B/s]"
      ]
     },
     "metadata": {},
     "output_type": "display_data"
    },
    {
     "data": {
      "application/vnd.jupyter.widget-view+json": {
       "model_id": "4c669ee541b542d6b0dc1d9de1b4b560",
       "version_major": 2,
       "version_minor": 0
      },
      "text/plain": [
       "config.json:   0%|          | 0.00/1.21k [00:00<?, ?B/s]"
      ]
     },
     "metadata": {},
     "output_type": "display_data"
    },
    {
     "data": {
      "application/vnd.jupyter.widget-view+json": {
       "model_id": "6e4bf405610646b0ab7da9aee9d33728",
       "version_major": 2,
       "version_minor": 0
      },
      "text/plain": [
       "spiece.model:   0%|          | 0.00/792k [00:00<?, ?B/s]"
      ]
     },
     "metadata": {},
     "output_type": "display_data"
    },
    {
     "data": {
      "application/vnd.jupyter.widget-view+json": {
       "model_id": "8201e70eaffe4ab2b4990428d62700d8",
       "version_major": 2,
       "version_minor": 0
      },
      "text/plain": [
       "special_tokens_map.json:   0%|          | 0.00/1.79k [00:00<?, ?B/s]"
      ]
     },
     "metadata": {},
     "output_type": "display_data"
    },
    {
     "name": "stderr",
     "output_type": "stream",
     "text": [
      "You are using the default legacy behaviour of the <class 'transformers.models.t5.tokenization_t5.T5Tokenizer'>. This is expected, and simply means that the `legacy` (previous) behavior will be used so nothing changes for you. If you want to use the new behaviour, set `legacy=False`. This should only be set if you understand what it means, and thoroughly read the reason why this was added as explained in https://github.com/huggingface/transformers/pull/24565\n"
     ]
    }
   ],
   "source": [
    "tokenizer = AutoTokenizer.from_pretrained(checkpoint)"
   ]
  },
  {
   "cell_type": "code",
   "execution_count": 6,
   "metadata": {
    "execution": {
     "iopub.execute_input": "2025-02-10T18:08:14.074568Z",
     "iopub.status.busy": "2025-02-10T18:08:14.074186Z",
     "iopub.status.idle": "2025-02-10T18:08:31.153392Z",
     "shell.execute_reply": "2025-02-10T18:08:31.152764Z",
     "shell.execute_reply.started": "2025-02-10T18:08:14.074547Z"
    },
    "trusted": true
   },
   "outputs": [
    {
     "data": {
      "application/vnd.jupyter.widget-view+json": {
       "model_id": "5fb518b1854f4ecfab0cc84d71a1a71d",
       "version_major": 2,
       "version_minor": 0
      },
      "text/plain": [
       "model.safetensors:   0%|          | 0.00/892M [00:00<?, ?B/s]"
      ]
     },
     "metadata": {},
     "output_type": "display_data"
    }
   ],
   "source": [
    "model = AutoModelForSeq2SeqLM.from_pretrained(checkpoint)"
   ]
  },
  {
   "cell_type": "code",
   "execution_count": 7,
   "metadata": {
    "execution": {
     "iopub.execute_input": "2025-02-10T18:08:31.154641Z",
     "iopub.status.busy": "2025-02-10T18:08:31.154129Z",
     "iopub.status.idle": "2025-02-10T18:08:31.160280Z",
     "shell.execute_reply": "2025-02-10T18:08:31.159511Z",
     "shell.execute_reply.started": "2025-02-10T18:08:31.154619Z"
    },
    "trusted": true
   },
   "outputs": [
    {
     "data": {
      "text/plain": [
       "20"
      ]
     },
     "execution_count": 7,
     "metadata": {},
     "output_type": "execute_result"
    }
   ],
   "source": [
    "model.config.max_length"
   ]
  },
  {
   "cell_type": "code",
   "execution_count": 8,
   "metadata": {
    "execution": {
     "iopub.execute_input": "2025-02-10T18:08:31.161229Z",
     "iopub.status.busy": "2025-02-10T18:08:31.160957Z",
     "iopub.status.idle": "2025-02-10T18:08:31.173939Z",
     "shell.execute_reply": "2025-02-10T18:08:31.173217Z",
     "shell.execute_reply.started": "2025-02-10T18:08:31.161201Z"
    },
    "trusted": true
   },
   "outputs": [],
   "source": [
    "text = \"\"\"\n",
    "           Summarize: mumbai based venture capital fund unicorn india ventures invested\n",
    "           undisclosed sums three kerala based startups said statement startups humanoid\n",
    "           developer genrobotic innovations smart kitchen appliances maker sectorqube body\n",
    "           scanning firm perfectfit fashion vc fund made investments across 10 startups\n",
    "           since inception 2015.\n",
    "\n",
    "           \"\"\""
   ]
  },
  {
   "cell_type": "code",
   "execution_count": 9,
   "metadata": {
    "execution": {
     "iopub.execute_input": "2025-02-10T18:08:31.176618Z",
     "iopub.status.busy": "2025-02-10T18:08:31.176282Z",
     "iopub.status.idle": "2025-02-10T18:08:31.200236Z",
     "shell.execute_reply": "2025-02-10T18:08:31.199498Z",
     "shell.execute_reply.started": "2025-02-10T18:08:31.176584Z"
    },
    "trusted": true
   },
   "outputs": [
    {
     "data": {
      "text/plain": [
       "{'input_ids': tensor([[12198,  1635,  1737,    10, 15480,  9441,     3,   390,  6086,  1784,\n",
       "          3069, 30707, 18222,  6086,     7, 11496,    64,   159, 16221,    26,\n",
       "          4505,     7,   386,     3,  2304,   138,     9,     3,   390, 17675,\n",
       "           243,  2493, 17675,   936,    32,    23,    26,  7523,     3,   729,\n",
       "         23801,  1225, 15858,  2592,  1228,  9403, 13762,  2393,  2436,   346,\n",
       "           643, 18269,  1669,   626,  5616,  2934,     3,   208,    75,  3069,\n",
       "           263,  7686,   640,   335, 17675,   437,    16,  7239,  5337,     1]]), 'attention_mask': tensor([[1, 1, 1, 1, 1, 1, 1, 1, 1, 1, 1, 1, 1, 1, 1, 1, 1, 1, 1, 1, 1, 1, 1, 1,\n",
       "         1, 1, 1, 1, 1, 1, 1, 1, 1, 1, 1, 1, 1, 1, 1, 1, 1, 1, 1, 1, 1, 1, 1, 1,\n",
       "         1, 1, 1, 1, 1, 1, 1, 1, 1, 1, 1, 1, 1, 1, 1, 1, 1, 1, 1, 1, 1, 1]])}"
      ]
     },
     "execution_count": 9,
     "metadata": {},
     "output_type": "execute_result"
    }
   ],
   "source": [
    "inputs = tokenizer(text, max_length=1024, truncation=True, return_tensors=\"pt\")\n",
    "inputs"
   ]
  },
  {
   "cell_type": "code",
   "execution_count": 10,
   "metadata": {
    "execution": {
     "iopub.execute_input": "2025-02-10T18:08:31.202193Z",
     "iopub.status.busy": "2025-02-10T18:08:31.202003Z",
     "iopub.status.idle": "2025-02-10T18:08:32.255668Z",
     "shell.execute_reply": "2025-02-10T18:08:32.254938Z",
     "shell.execute_reply.started": "2025-02-10T18:08:31.202177Z"
    },
    "trusted": true
   },
   "outputs": [
    {
     "data": {
      "text/plain": [
       "tensor([[    0, 32099,    10, 15810,     3,   390,  6086,  1784,  3069, 30707,\n",
       "         18222,  6086,  1784,  3069,   263,  7686,   640,   335, 17675,   437,\n",
       "            16]])"
      ]
     },
     "execution_count": 10,
     "metadata": {},
     "output_type": "execute_result"
    }
   ],
   "source": [
    "summary_ids = model.generate(inputs['input_ids']  )\n",
    "summary_ids"
   ]
  },
  {
   "cell_type": "code",
   "execution_count": 11,
   "metadata": {
    "execution": {
     "iopub.execute_input": "2025-02-10T18:08:32.256424Z",
     "iopub.status.busy": "2025-02-10T18:08:32.256183Z",
     "iopub.status.idle": "2025-02-10T18:08:32.263831Z",
     "shell.execute_reply": "2025-02-10T18:08:32.260386Z",
     "shell.execute_reply.started": "2025-02-10T18:08:32.256402Z"
    },
    "trusted": true
   },
   "outputs": [
    {
     "name": "stdout",
     "output_type": "stream",
     "text": [
      ": Mumbai based venture capital fund unicorn india venture capital fund made investments across 10 startups since in\n"
     ]
    }
   ],
   "source": [
    "summary = tokenizer.decode(summary_ids[0], skip_special_tokens=True)\n",
    "print(summary)"
   ]
  },
  {
   "cell_type": "code",
   "execution_count": 12,
   "metadata": {
    "execution": {
     "iopub.execute_input": "2025-02-10T18:08:32.264909Z",
     "iopub.status.busy": "2025-02-10T18:08:32.264536Z",
     "iopub.status.idle": "2025-02-10T18:08:44.533273Z",
     "shell.execute_reply": "2025-02-10T18:08:44.532546Z",
     "shell.execute_reply.started": "2025-02-10T18:08:32.264870Z"
    },
    "trusted": true
   },
   "outputs": [
    {
     "data": {
      "application/vnd.jupyter.widget-view+json": {
       "model_id": "11a9dd592f294e58968252209f094b1b",
       "version_major": 2,
       "version_minor": 0
      },
      "text/plain": [
       "README.md:   0%|          | 0.00/15.6k [00:00<?, ?B/s]"
      ]
     },
     "metadata": {},
     "output_type": "display_data"
    },
    {
     "data": {
      "application/vnd.jupyter.widget-view+json": {
       "model_id": "343f3c6f2a2c4e65ba71c1892b87e3b1",
       "version_major": 2,
       "version_minor": 0
      },
      "text/plain": [
       "train-00000-of-00003.parquet:   0%|          | 0.00/257M [00:00<?, ?B/s]"
      ]
     },
     "metadata": {},
     "output_type": "display_data"
    },
    {
     "data": {
      "application/vnd.jupyter.widget-view+json": {
       "model_id": "cf61b59738674dc18a09b9d82d6f4e10",
       "version_major": 2,
       "version_minor": 0
      },
      "text/plain": [
       "train-00001-of-00003.parquet:   0%|          | 0.00/257M [00:00<?, ?B/s]"
      ]
     },
     "metadata": {},
     "output_type": "display_data"
    },
    {
     "data": {
      "application/vnd.jupyter.widget-view+json": {
       "model_id": "ef33f3f66aef45eb8be29d82d1d4159b",
       "version_major": 2,
       "version_minor": 0
      },
      "text/plain": [
       "train-00002-of-00003.parquet:   0%|          | 0.00/259M [00:00<?, ?B/s]"
      ]
     },
     "metadata": {},
     "output_type": "display_data"
    },
    {
     "data": {
      "application/vnd.jupyter.widget-view+json": {
       "model_id": "f3757b1be7d84c6085fae3cdf11077b4",
       "version_major": 2,
       "version_minor": 0
      },
      "text/plain": [
       "validation-00000-of-00001.parquet:   0%|          | 0.00/34.7M [00:00<?, ?B/s]"
      ]
     },
     "metadata": {},
     "output_type": "display_data"
    },
    {
     "data": {
      "application/vnd.jupyter.widget-view+json": {
       "model_id": "445ab190bb6e42d181e7452e60189726",
       "version_major": 2,
       "version_minor": 0
      },
      "text/plain": [
       "test-00000-of-00001.parquet:   0%|          | 0.00/30.0M [00:00<?, ?B/s]"
      ]
     },
     "metadata": {},
     "output_type": "display_data"
    },
    {
     "data": {
      "application/vnd.jupyter.widget-view+json": {
       "model_id": "5dd865d3d39e4e7088e7a8a49357fd8f",
       "version_major": 2,
       "version_minor": 0
      },
      "text/plain": [
       "Generating train split:   0%|          | 0/287113 [00:00<?, ? examples/s]"
      ]
     },
     "metadata": {},
     "output_type": "display_data"
    },
    {
     "data": {
      "application/vnd.jupyter.widget-view+json": {
       "model_id": "a0816dffe34640ceaaca324424acdc4e",
       "version_major": 2,
       "version_minor": 0
      },
      "text/plain": [
       "Generating validation split:   0%|          | 0/13368 [00:00<?, ? examples/s]"
      ]
     },
     "metadata": {},
     "output_type": "display_data"
    },
    {
     "data": {
      "application/vnd.jupyter.widget-view+json": {
       "model_id": "332421c3a9804faba32ebddaaaa47da2",
       "version_major": 2,
       "version_minor": 0
      },
      "text/plain": [
       "Generating test split:   0%|          | 0/11490 [00:00<?, ? examples/s]"
      ]
     },
     "metadata": {},
     "output_type": "display_data"
    },
    {
     "data": {
      "text/plain": [
       "DatasetDict({\n",
       "    train: Dataset({\n",
       "        features: ['article', 'highlights', 'id'],\n",
       "        num_rows: 287113\n",
       "    })\n",
       "    validation: Dataset({\n",
       "        features: ['article', 'highlights', 'id'],\n",
       "        num_rows: 13368\n",
       "    })\n",
       "    test: Dataset({\n",
       "        features: ['article', 'highlights', 'id'],\n",
       "        num_rows: 11490\n",
       "    })\n",
       "})"
      ]
     },
     "execution_count": 12,
     "metadata": {},
     "output_type": "execute_result"
    }
   ],
   "source": [
    "from datasets import load_dataset\n",
    "raw_datasets = load_dataset(\"abisee/cnn_dailymail\", \"3.0.0\")\n",
    "raw_datasets"
   ]
  },
  {
   "cell_type": "code",
   "execution_count": 13,
   "metadata": {
    "execution": {
     "iopub.execute_input": "2025-02-10T18:08:44.534771Z",
     "iopub.status.busy": "2025-02-10T18:08:44.534157Z",
     "iopub.status.idle": "2025-02-10T18:08:46.884961Z",
     "shell.execute_reply": "2025-02-10T18:08:46.884007Z",
     "shell.execute_reply.started": "2025-02-10T18:08:44.534745Z"
    },
    "trusted": true
   },
   "outputs": [
    {
     "data": {
      "text/plain": [
       "'LONDON, England (Reuters) -- Harry Potter star Daniel Radcliffe gains access to a reported £20 million ($41.1 million) fortune as he turns 18 on Monday, but he insists the money won\\'t cast a spell on him. Daniel Radcliffe as Harry Potter in \"Harry Potter and the Order of the Phoenix\" To the disappointment of gossip columnists around the world, the young actor says he has no plans to fritter his cash away on fast cars, drink and celebrity parties. \"I don\\'t plan to be one of those people who, as soon as they turn 18, suddenly buy themselves a massive sports car collection or something similar,\" he told an Australian interviewer earlier this month. \"I don\\'t think I\\'ll be particularly extravagant. \"The things I like buying are things that cost about 10 pounds -- books and CDs and DVDs.\" At 18, Radcliffe will be able to gamble in a casino, buy a drink in a pub or see the horror film \"Hostel: Part II,\" currently six places below his number one movie on the UK box office chart. Details of how he\\'ll mark his landmark birthday are under wraps. His agent and publicist had no comment on his plans. \"I\\'ll definitely have some sort of party,\" he said in an interview. \"Hopefully none of you will be reading about it.\" Radcliffe\\'s earnings from the first five Potter films have been held in a trust fund which he has not been able to touch. Despite his growing fame and riches, the actor says he is keeping his feet firmly on the ground. \"People are always looking to say \\'kid star goes off the rails,\\'\" he told reporters last month. \"But I try very hard not to go that way because it would be too easy for them.\" His latest outing as the boy wizard in \"Harry Potter and the Order of the Phoenix\" is breaking records on both sides of the Atlantic and he will reprise the role in the last two films.  Watch I-Reporter give her review of Potter\\'s latest » . There is life beyond Potter, however. The Londoner has filmed a TV movie called \"My Boy Jack,\" about author Rudyard Kipling and his son, due for release later this year. He will also appear in \"December Boys,\" an Australian film about four boys who escape an orphanage. Earlier this year, he made his stage debut playing a tortured teenager in Peter Shaffer\\'s \"Equus.\" Meanwhile, he is braced for even closer media scrutiny now that he\\'s legally an adult: \"I just think I\\'m going to be more sort of fair game,\" he told Reuters. E-mail to a friend . Copyright 2007 Reuters. All rights reserved.This material may not be published, broadcast, rewritten, or redistributed.'"
      ]
     },
     "execution_count": 13,
     "metadata": {},
     "output_type": "execute_result"
    }
   ],
   "source": [
    "raw_datasets['train']['article'][0]"
   ]
  },
  {
   "cell_type": "code",
   "execution_count": 14,
   "metadata": {
    "execution": {
     "iopub.execute_input": "2025-02-10T18:08:46.886335Z",
     "iopub.status.busy": "2025-02-10T18:08:46.886006Z",
     "iopub.status.idle": "2025-02-10T18:09:01.229021Z",
     "shell.execute_reply": "2025-02-10T18:09:01.228382Z",
     "shell.execute_reply.started": "2025-02-10T18:08:46.886288Z"
    },
    "trusted": true
   },
   "outputs": [],
   "source": [
    "lenn = []\n",
    "for x in raw_datasets['train']['article'] :\n",
    "  lenn.append(len(x.split()))"
   ]
  },
  {
   "cell_type": "code",
   "execution_count": 15,
   "metadata": {
    "execution": {
     "iopub.execute_input": "2025-02-10T18:09:01.230391Z",
     "iopub.status.busy": "2025-02-10T18:09:01.230026Z",
     "iopub.status.idle": "2025-02-10T18:09:01.849989Z",
     "shell.execute_reply": "2025-02-10T18:09:01.849238Z",
     "shell.execute_reply.started": "2025-02-10T18:09:01.230287Z"
    },
    "trusted": true
   },
   "outputs": [],
   "source": [
    "len_val = []\n",
    "for x in raw_datasets['validation']['article'] :\n",
    "  len_val.append(len(x.split()))"
   ]
  },
  {
   "cell_type": "code",
   "execution_count": 16,
   "metadata": {
    "execution": {
     "iopub.execute_input": "2025-02-10T18:09:01.851096Z",
     "iopub.status.busy": "2025-02-10T18:09:01.850848Z",
     "iopub.status.idle": "2025-02-10T18:09:03.146954Z",
     "shell.execute_reply": "2025-02-10T18:09:03.146053Z",
     "shell.execute_reply.started": "2025-02-10T18:09:01.851076Z"
    },
    "trusted": true
   },
   "outputs": [],
   "source": [
    "len_test = []\n",
    "for x in raw_datasets['test']['article'] :\n",
    "  len_test.append(len(x.split()))"
   ]
  },
  {
   "cell_type": "code",
   "execution_count": 17,
   "metadata": {
    "execution": {
     "iopub.execute_input": "2025-02-10T18:09:03.148069Z",
     "iopub.status.busy": "2025-02-10T18:09:03.147862Z",
     "iopub.status.idle": "2025-02-10T18:09:03.172711Z",
     "shell.execute_reply": "2025-02-10T18:09:03.172041Z",
     "shell.execute_reply.started": "2025-02-10T18:09:03.148052Z"
    },
    "trusted": true
   },
   "outputs": [
    {
     "data": {
      "text/plain": [
       "25504"
      ]
     },
     "execution_count": 17,
     "metadata": {},
     "output_type": "execute_result"
    }
   ],
   "source": [
    "cnt = 0\n",
    "for i in lenn:\n",
    "  if i <= 300:\n",
    "    cnt+=1\n",
    "\n",
    "cnt"
   ]
  },
  {
   "cell_type": "code",
   "execution_count": 18,
   "metadata": {
    "execution": {
     "iopub.execute_input": "2025-02-10T18:09:03.173764Z",
     "iopub.status.busy": "2025-02-10T18:09:03.173458Z",
     "iopub.status.idle": "2025-02-10T18:09:03.187172Z",
     "shell.execute_reply": "2025-02-10T18:09:03.186364Z",
     "shell.execute_reply.started": "2025-02-10T18:09:03.173734Z"
    },
    "trusted": true
   },
   "outputs": [
    {
     "data": {
      "text/plain": [
       "1481"
      ]
     },
     "execution_count": 18,
     "metadata": {},
     "output_type": "execute_result"
    }
   ],
   "source": [
    "cnt = 0\n",
    "for i in len_val:\n",
    "  if i <= 300:\n",
    "    cnt+=1\n",
    "\n",
    "cnt"
   ]
  },
  {
   "cell_type": "code",
   "execution_count": 19,
   "metadata": {
    "execution": {
     "iopub.execute_input": "2025-02-10T18:09:03.188111Z",
     "iopub.status.busy": "2025-02-10T18:09:03.187929Z",
     "iopub.status.idle": "2025-02-10T18:09:03.202526Z",
     "shell.execute_reply": "2025-02-10T18:09:03.201858Z",
     "shell.execute_reply.started": "2025-02-10T18:09:03.188094Z"
    },
    "trusted": true
   },
   "outputs": [
    {
     "data": {
      "text/plain": [
       "1177"
      ]
     },
     "execution_count": 19,
     "metadata": {},
     "output_type": "execute_result"
    }
   ],
   "source": [
    "cnt = 0\n",
    "for i in len_test:\n",
    "  if i <= 300:\n",
    "    cnt+=1\n",
    "\n",
    "cnt"
   ]
  },
  {
   "cell_type": "code",
   "execution_count": 20,
   "metadata": {
    "execution": {
     "iopub.execute_input": "2025-02-10T18:09:03.203452Z",
     "iopub.status.busy": "2025-02-10T18:09:03.203163Z",
     "iopub.status.idle": "2025-02-10T18:09:03.215260Z",
     "shell.execute_reply": "2025-02-10T18:09:03.214448Z",
     "shell.execute_reply.started": "2025-02-10T18:09:03.203421Z"
    },
    "trusted": true
   },
   "outputs": [],
   "source": [
    "import matplotlib.pyplot as plt"
   ]
  },
  {
   "cell_type": "code",
   "execution_count": 21,
   "metadata": {
    "execution": {
     "iopub.execute_input": "2025-02-10T18:09:03.216461Z",
     "iopub.status.busy": "2025-02-10T18:09:03.216187Z",
     "iopub.status.idle": "2025-02-10T18:09:04.253302Z",
     "shell.execute_reply": "2025-02-10T18:09:04.252383Z",
     "shell.execute_reply.started": "2025-02-10T18:09:03.216432Z"
    },
    "trusted": true
   },
   "outputs": [
    {
     "data": {
      "image/png": "[encoded data removed]",
      "text/plain": [
       "<Figure size 640x480 with 1 Axes>"
      ]
     },
     "metadata": {},
     "output_type": "display_data"
    }
   ],
   "source": [
    "plt.hist(lenn , bins = 100);"
   ]
  },
  {
   "cell_type": "code",
   "execution_count": 22,
   "metadata": {
    "execution": {
     "iopub.execute_input": "2025-02-10T18:09:04.254319Z",
     "iopub.status.busy": "2025-02-10T18:09:04.254040Z",
     "iopub.status.idle": "2025-02-10T18:09:04.258131Z",
     "shell.execute_reply": "2025-02-10T18:09:04.257355Z",
     "shell.execute_reply.started": "2025-02-10T18:09:04.254267Z"
    },
    "trusted": true
   },
   "outputs": [],
   "source": [
    "prompt = \"You are the smartest model ever. Please summarize the following text in a concise manner:\\n\\n\""
   ]
  },
  {
   "cell_type": "code",
   "execution_count": 23,
   "metadata": {
    "execution": {
     "iopub.execute_input": "2025-02-10T18:09:04.259202Z",
     "iopub.status.busy": "2025-02-10T18:09:04.259005Z",
     "iopub.status.idle": "2025-02-10T18:09:23.175363Z",
     "shell.execute_reply": "2025-02-10T18:09:23.174315Z",
     "shell.execute_reply.started": "2025-02-10T18:09:04.259184Z"
    },
    "trusted": true
   },
   "outputs": [
    {
     "data": {
      "application/vnd.jupyter.widget-view+json": {
       "model_id": "581a21dcc4664b97b9e309d1075a1a7b",
       "version_major": 2,
       "version_minor": 0
      },
      "text/plain": [
       "Map:   0%|          | 0/287113 [00:00<?, ? examples/s]"
      ]
     },
     "metadata": {},
     "output_type": "display_data"
    },
    {
     "data": {
      "application/vnd.jupyter.widget-view+json": {
       "model_id": "86c4e0afb5dc4fd6950aa6950db437f9",
       "version_major": 2,
       "version_minor": 0
      },
      "text/plain": [
       "Map:   0%|          | 0/13368 [00:00<?, ? examples/s]"
      ]
     },
     "metadata": {},
     "output_type": "display_data"
    },
    {
     "data": {
      "application/vnd.jupyter.widget-view+json": {
       "model_id": "3a36b10c33074f0d8c070fc9df054a0d",
       "version_major": 2,
       "version_minor": 0
      },
      "text/plain": [
       "Map:   0%|          | 0/11490 [00:00<?, ? examples/s]"
      ]
     },
     "metadata": {},
     "output_type": "display_data"
    },
    {
     "data": {
      "text/plain": [
       "DatasetDict({\n",
       "    train: Dataset({\n",
       "        features: ['article', 'highlights', 'id'],\n",
       "        num_rows: 287113\n",
       "    })\n",
       "    validation: Dataset({\n",
       "        features: ['article', 'highlights', 'id'],\n",
       "        num_rows: 13368\n",
       "    })\n",
       "    test: Dataset({\n",
       "        features: ['article', 'highlights', 'id'],\n",
       "        num_rows: 11490\n",
       "    })\n",
       "})"
      ]
     },
     "execution_count": 23,
     "metadata": {},
     "output_type": "execute_result"
    }
   ],
   "source": [
    "filtered_dataset = raw_datasets.map(lambda example: {'article': prompt + example['article']})\n",
    "filtered_dataset"
   ]
  },
  {
   "cell_type": "code",
   "execution_count": 24,
   "metadata": {
    "execution": {
     "iopub.execute_input": "2025-02-10T18:09:23.180651Z",
     "iopub.status.busy": "2025-02-10T18:09:23.180388Z",
     "iopub.status.idle": "2025-02-10T18:09:24.454074Z",
     "shell.execute_reply": "2025-02-10T18:09:24.453176Z",
     "shell.execute_reply.started": "2025-02-10T18:09:23.180627Z"
    },
    "trusted": true
   },
   "outputs": [
    {
     "data": {
      "text/plain": [
       "'You are the smartest model ever. Please summarize the following text in a concise manner:\\n\\nLONDON, England (Reuters) -- Harry Potter star Daniel Radcliffe gains access to a reported £20 million ($41.1 million) fortune as he turns 18 on Monday, but he insists the money won\\'t cast a spell on him. Daniel Radcliffe as Harry Potter in \"Harry Potter and the Order of the Phoenix\" To the disappointment of gossip columnists around the world, the young actor says he has no plans to fritter his cash away on fast cars, drink and celebrity parties. \"I don\\'t plan to be one of those people who, as soon as they turn 18, suddenly buy themselves a massive sports car collection or something similar,\" he told an Australian interviewer earlier this month. \"I don\\'t think I\\'ll be particularly extravagant. \"The things I like buying are things that cost about 10 pounds -- books and CDs and DVDs.\" At 18, Radcliffe will be able to gamble in a casino, buy a drink in a pub or see the horror film \"Hostel: Part II,\" currently six places below his number one movie on the UK box office chart. Details of how he\\'ll mark his landmark birthday are under wraps. His agent and publicist had no comment on his plans. \"I\\'ll definitely have some sort of party,\" he said in an interview. \"Hopefully none of you will be reading about it.\" Radcliffe\\'s earnings from the first five Potter films have been held in a trust fund which he has not been able to touch. Despite his growing fame and riches, the actor says he is keeping his feet firmly on the ground. \"People are always looking to say \\'kid star goes off the rails,\\'\" he told reporters last month. \"But I try very hard not to go that way because it would be too easy for them.\" His latest outing as the boy wizard in \"Harry Potter and the Order of the Phoenix\" is breaking records on both sides of the Atlantic and he will reprise the role in the last two films.  Watch I-Reporter give her review of Potter\\'s latest » . There is life beyond Potter, however. The Londoner has filmed a TV movie called \"My Boy Jack,\" about author Rudyard Kipling and his son, due for release later this year. He will also appear in \"December Boys,\" an Australian film about four boys who escape an orphanage. Earlier this year, he made his stage debut playing a tortured teenager in Peter Shaffer\\'s \"Equus.\" Meanwhile, he is braced for even closer media scrutiny now that he\\'s legally an adult: \"I just think I\\'m going to be more sort of fair game,\" he told Reuters. E-mail to a friend . Copyright 2007 Reuters. All rights reserved.This material may not be published, broadcast, rewritten, or redistributed.'"
      ]
     },
     "execution_count": 24,
     "metadata": {},
     "output_type": "execute_result"
    }
   ],
   "source": [
    "filtered_dataset['train']['article'][0]"
   ]
  },
  {
   "cell_type": "code",
   "execution_count": 25,
   "metadata": {
    "execution": {
     "iopub.execute_input": "2025-02-10T18:09:24.456116Z",
     "iopub.status.busy": "2025-02-10T18:09:24.455876Z",
     "iopub.status.idle": "2025-02-10T18:09:42.605976Z",
     "shell.execute_reply": "2025-02-10T18:09:42.605124Z",
     "shell.execute_reply.started": "2025-02-10T18:09:24.456094Z"
    },
    "trusted": true
   },
   "outputs": [
    {
     "data": {
      "application/vnd.jupyter.widget-view+json": {
       "model_id": "0d30bf5f5cd54af09e02c4d6db45b477",
       "version_major": 2,
       "version_minor": 0
      },
      "text/plain": [
       "Filter:   0%|          | 0/287113 [00:00<?, ? examples/s]"
      ]
     },
     "metadata": {},
     "output_type": "display_data"
    },
    {
     "data": {
      "application/vnd.jupyter.widget-view+json": {
       "model_id": "2d5f7118d5f04d419c545ef1693871df",
       "version_major": 2,
       "version_minor": 0
      },
      "text/plain": [
       "Filter:   0%|          | 0/13368 [00:00<?, ? examples/s]"
      ]
     },
     "metadata": {},
     "output_type": "display_data"
    },
    {
     "data": {
      "application/vnd.jupyter.widget-view+json": {
       "model_id": "1232edc289bb425989ccdcfda7b2cb0d",
       "version_major": 2,
       "version_minor": 0
      },
      "text/plain": [
       "Filter:   0%|          | 0/11490 [00:00<?, ? examples/s]"
      ]
     },
     "metadata": {},
     "output_type": "display_data"
    },
    {
     "data": {
      "text/plain": [
       "DatasetDict({\n",
       "    train: Dataset({\n",
       "        features: ['article', 'highlights', 'id'],\n",
       "        num_rows: 25504\n",
       "    })\n",
       "    validation: Dataset({\n",
       "        features: ['article', 'highlights', 'id'],\n",
       "        num_rows: 1481\n",
       "    })\n",
       "    test: Dataset({\n",
       "        features: ['article', 'highlights', 'id'],\n",
       "        num_rows: 1177\n",
       "    })\n",
       "})"
      ]
     },
     "execution_count": 25,
     "metadata": {},
     "output_type": "execute_result"
    }
   ],
   "source": [
    "filtered_dataset = raw_datasets.filter(lambda example: len(example['article'].split()) <= 300)\n",
    "filtered_dataset"
   ]
  },
  {
   "cell_type": "code",
   "execution_count": 26,
   "metadata": {
    "execution": {
     "iopub.execute_input": "2025-02-10T18:09:42.607144Z",
     "iopub.status.busy": "2025-02-10T18:09:42.606855Z",
     "iopub.status.idle": "2025-02-10T18:09:42.616177Z",
     "shell.execute_reply": "2025-02-10T18:09:42.615367Z",
     "shell.execute_reply.started": "2025-02-10T18:09:42.607111Z"
    },
    "trusted": true
   },
   "outputs": [],
   "source": [
    "from datasets import concatenate_datasets , DatasetDict\n",
    "\n",
    "train_dataset = filtered_dataset[\"train\"]\n",
    "validation_dataset = filtered_dataset[\"validation\"]\n",
    "test_dataset = filtered_dataset[\"test\"]\n",
    "\n",
    "validation_test_dataset = concatenate_datasets([validation_dataset, test_dataset])"
   ]
  },
  {
   "cell_type": "code",
   "execution_count": 27,
   "metadata": {
    "execution": {
     "iopub.execute_input": "2025-02-10T18:09:42.617264Z",
     "iopub.status.busy": "2025-02-10T18:09:42.617072Z",
     "iopub.status.idle": "2025-02-10T18:09:42.632102Z",
     "shell.execute_reply": "2025-02-10T18:09:42.631362Z",
     "shell.execute_reply.started": "2025-02-10T18:09:42.617247Z"
    },
    "trusted": true
   },
   "outputs": [
    {
     "data": {
      "text/plain": [
       "DatasetDict({\n",
       "    train: Dataset({\n",
       "        features: ['article', 'highlights', 'id'],\n",
       "        num_rows: 25504\n",
       "    })\n",
       "    validation: Dataset({\n",
       "        features: ['article', 'highlights', 'id'],\n",
       "        num_rows: 2658\n",
       "    })\n",
       "})"
      ]
     },
     "execution_count": 27,
     "metadata": {},
     "output_type": "execute_result"
    }
   ],
   "source": [
    "raw_datasets = DatasetDict({\n",
    "    \"train\": train_dataset,\n",
    "    \"validation\": validation_test_dataset\n",
    "})\n",
    "\n",
    "\n",
    "raw_datasets"
   ]
  },
  {
   "cell_type": "code",
   "execution_count": 28,
   "metadata": {
    "execution": {
     "iopub.execute_input": "2025-02-10T18:09:42.633363Z",
     "iopub.status.busy": "2025-02-10T18:09:42.633066Z",
     "iopub.status.idle": "2025-02-10T18:09:42.646803Z",
     "shell.execute_reply": "2025-02-10T18:09:42.646181Z",
     "shell.execute_reply.started": "2025-02-10T18:09:42.633333Z"
    },
    "trusted": true
   },
   "outputs": [],
   "source": [
    "def get_feature(batch):\n",
    "\n",
    "  inputs = tokenizer(batch['article'], padding=\"max_length\", truncation=True, max_length=512)\n",
    "\n",
    "  labels = tokenizer(batch['highlights'], padding=\"max_length\", truncation=True, max_length=150)\n",
    "\n",
    "  inputs['labels'] = labels['input_ids']\n",
    "\n",
    "  return inputs"
   ]
  },
  {
   "cell_type": "code",
   "execution_count": 29,
   "metadata": {
    "execution": {
     "iopub.execute_input": "2025-02-10T18:09:42.647912Z",
     "iopub.status.busy": "2025-02-10T18:09:42.647632Z",
     "iopub.status.idle": "2025-02-10T18:10:00.592334Z",
     "shell.execute_reply": "2025-02-10T18:10:00.591682Z",
     "shell.execute_reply.started": "2025-02-10T18:09:42.647884Z"
    },
    "trusted": true
   },
   "outputs": [
    {
     "data": {
      "application/vnd.jupyter.widget-view+json": {
       "model_id": "8cbde0f3384547cd8e3ecb21d6f46f8a",
       "version_major": 2,
       "version_minor": 0
      },
      "text/plain": [
       "Map:   0%|          | 0/25504 [00:00<?, ? examples/s]"
      ]
     },
     "metadata": {},
     "output_type": "display_data"
    },
    {
     "data": {
      "application/vnd.jupyter.widget-view+json": {
       "model_id": "3e3138add0664377b9dc8571092f56e9",
       "version_major": 2,
       "version_minor": 0
      },
      "text/plain": [
       "Map:   0%|          | 0/2658 [00:00<?, ? examples/s]"
      ]
     },
     "metadata": {},
     "output_type": "display_data"
    },
    {
     "data": {
      "text/plain": [
       "DatasetDict({\n",
       "    train: Dataset({\n",
       "        features: ['article', 'highlights', 'id', 'input_ids', 'attention_mask', 'labels'],\n",
       "        num_rows: 25504\n",
       "    })\n",
       "    validation: Dataset({\n",
       "        features: ['article', 'highlights', 'id', 'input_ids', 'attention_mask', 'labels'],\n",
       "        num_rows: 2658\n",
       "    })\n",
       "})"
      ]
     },
     "execution_count": 29,
     "metadata": {},
     "output_type": "execute_result"
    }
   ],
   "source": [
    "tokenized_datasets = raw_datasets.map(get_feature, batched = True)\n",
    "tokenized_datasets"
   ]
  },
  {
   "cell_type": "code",
   "execution_count": 30,
   "metadata": {
    "execution": {
     "iopub.execute_input": "2025-02-10T18:10:00.593427Z",
     "iopub.status.busy": "2025-02-10T18:10:00.593093Z",
     "iopub.status.idle": "2025-02-10T18:10:00.602366Z",
     "shell.execute_reply": "2025-02-10T18:10:00.601745Z",
     "shell.execute_reply.started": "2025-02-10T18:10:00.593395Z"
    },
    "trusted": true
   },
   "outputs": [
    {
     "data": {
      "text/plain": [
       "DatasetDict({\n",
       "    train: Dataset({\n",
       "        features: ['input_ids', 'attention_mask', 'labels'],\n",
       "        num_rows: 25504\n",
       "    })\n",
       "    validation: Dataset({\n",
       "        features: ['input_ids', 'attention_mask', 'labels'],\n",
       "        num_rows: 2658\n",
       "    })\n",
       "})"
      ]
     },
     "execution_count": 30,
     "metadata": {},
     "output_type": "execute_result"
    }
   ],
   "source": [
    "tokenized_datasets = tokenized_datasets.remove_columns(['article', 'highlights', 'id'])\n",
    "tokenized_datasets.set_format(type=\"torch\", columns=[\"input_ids\", \"attention_mask\", \"labels\"])\n",
    "tokenized_datasets"
   ]
  },
  {
   "cell_type": "code",
   "execution_count": 31,
   "metadata": {
    "execution": {
     "iopub.execute_input": "2025-02-10T18:10:00.603309Z",
     "iopub.status.busy": "2025-02-10T18:10:00.603034Z",
     "iopub.status.idle": "2025-02-10T18:10:00.847835Z",
     "shell.execute_reply": "2025-02-10T18:10:00.847237Z",
     "shell.execute_reply.started": "2025-02-10T18:10:00.603271Z"
    },
    "trusted": true
   },
   "outputs": [],
   "source": [
    "from transformers import DataCollatorWithPadding\n",
    "\n",
    "data_collator = DataCollatorWithPadding(tokenizer=tokenizer)"
   ]
  },
  {
   "cell_type": "code",
   "execution_count": 32,
   "metadata": {
    "execution": {
     "iopub.execute_input": "2025-02-10T18:10:00.848827Z",
     "iopub.status.busy": "2025-02-10T18:10:00.848600Z",
     "iopub.status.idle": "2025-02-10T18:10:00.852952Z",
     "shell.execute_reply": "2025-02-10T18:10:00.852142Z",
     "shell.execute_reply.started": "2025-02-10T18:10:00.848807Z"
    },
    "trusted": true
   },
   "outputs": [],
   "source": [
    "from torch.utils.data import DataLoader\n",
    "\n",
    "train_dataloader = DataLoader(tokenized_datasets['train'] , batch_size = 4 , collate_fn = data_collator , shuffle = True)\n",
    "val_dataloader = DataLoader(tokenized_datasets['validation'] , batch_size = 4 , collate_fn = data_collator)"
   ]
  },
  {
   "cell_type": "code",
   "execution_count": 33,
   "metadata": {
    "execution": {
     "iopub.execute_input": "2025-02-10T18:10:00.853869Z",
     "iopub.status.busy": "2025-02-10T18:10:00.853687Z",
     "iopub.status.idle": "2025-02-10T18:10:00.881064Z",
     "shell.execute_reply": "2025-02-10T18:10:00.880501Z",
     "shell.execute_reply.started": "2025-02-10T18:10:00.853851Z"
    },
    "trusted": true
   },
   "outputs": [
    {
     "name": "stdout",
     "output_type": "stream",
     "text": [
      "First batch in train_dataloader:\n",
      "{'input_ids': tensor([[   41,   254, 17235,  ...,     0,     0,     0],\n",
      "        [ 2386,    41,   254,  ...,     0,     0,     0],\n",
      "        [  938,     3,     5,  ...,     0,     0,     0],\n",
      "        [   41,   254, 17235,  ...,     0,     0,     0]]), 'attention_mask': tensor([[1, 1, 1,  ..., 0, 0, 0],\n",
      "        [1, 1, 1,  ..., 0, 0, 0],\n",
      "        [1, 1, 1,  ..., 0, 0, 0],\n",
      "        [1, 1, 1,  ..., 0, 0, 0]]), 'labels': tensor([[    3, 16911,  4917,   879,  4977,    28,   662, 12052,    13,     3,\n",
      "          5846,    15,    16,     8,  4509,  1952,     3,     5,  5076,   497,\n",
      "          4173, 30486,     6,  6154,     6,  1736,     3,     9,   898,    18,\n",
      "          1201,    18,  1490,  4940,   190,  1012, 16998,  4134,  1120,   350,\n",
      "         13119,    52,     3,     5, 30486,    65,     3,    60, 15532,    45,\n",
      "           112,   613,    44,     8, 19722,  4917,   879,    31,     7,   828,\n",
      "             3,     5, 10154,  2146, 12433,  2106,   537,     6,   520,    13,\n",
      "          8236,  1661,  4967,  2106,   537,     6,    65,    59, 18452,     3,\n",
      "             5,     1,     0,     0,     0,     0,     0,     0,     0,     0,\n",
      "             0,     0,     0,     0,     0,     0,     0,     0,     0,     0,\n",
      "             0,     0,     0,     0,     0,     0,     0,     0,     0,     0,\n",
      "             0,     0,     0,     0,     0,     0,     0,     0,     0,     0,\n",
      "             0,     0,     0,     0,     0,     0,     0,     0,     0,     0,\n",
      "             0,     0,     0,     0,     0,     0,     0,     0,     0,     0,\n",
      "             0,     0,     0,     0,     0,     0,     0,     0,     0,     0],\n",
      "        [   71,   126,   563, 10375,     3,     9,  1328,    16,  1773,    12,\n",
      "             8,   368,  1060, 21760,     3,     5,    37,  2140,   963,     3,\n",
      "             9,  1148,  1196,    13,  7215,  2508,    81, 10172,    11,  1452,\n",
      "             3,     5,    37,   563,  1187,     8,  1328,  8441, 22506,    34,\n",
      "            30,  2089,     3,     5,     1,     0,     0,     0,     0,     0,\n",
      "             0,     0,     0,     0,     0,     0,     0,     0,     0,     0,\n",
      "             0,     0,     0,     0,     0,     0,     0,     0,     0,     0,\n",
      "             0,     0,     0,     0,     0,     0,     0,     0,     0,     0,\n",
      "             0,     0,     0,     0,     0,     0,     0,     0,     0,     0,\n",
      "             0,     0,     0,     0,     0,     0,     0,     0,     0,     0,\n",
      "             0,     0,     0,     0,     0,     0,     0,     0,     0,     0,\n",
      "             0,     0,     0,     0,     0,     0,     0,     0,     0,     0,\n",
      "             0,     0,     0,     0,     0,     0,     0,     0,     0,     0,\n",
      "             0,     0,     0,     0,     0,     0,     0,     0,     0,     0,\n",
      "             0,     0,     0,     0,     0,     0,     0,     0,     0,     0],\n",
      "        [  325,    53,    47,   114,    29,    15,    26,    12,   258,  1079,\n",
      "         18163,   116,     3,    88,  3814,    21,  3068,   221,  7721,     3,\n",
      "             5,    37,  1401,    18,  1201,    18,  1490,   141,    92,   118,\n",
      "           761,    28,  1589,  7223,   227,   271,  1883,     3,     5,     1,\n",
      "             0,     0,     0,     0,     0,     0,     0,     0,     0,     0,\n",
      "             0,     0,     0,     0,     0,     0,     0,     0,     0,     0,\n",
      "             0,     0,     0,     0,     0,     0,     0,     0,     0,     0,\n",
      "             0,     0,     0,     0,     0,     0,     0,     0,     0,     0,\n",
      "             0,     0,     0,     0,     0,     0,     0,     0,     0,     0,\n",
      "             0,     0,     0,     0,     0,     0,     0,     0,     0,     0,\n",
      "             0,     0,     0,     0,     0,     0,     0,     0,     0,     0,\n",
      "             0,     0,     0,     0,     0,     0,     0,     0,     0,     0,\n",
      "             0,     0,     0,     0,     0,     0,     0,     0,     0,     0,\n",
      "             0,     0,     0,     0,     0,     0,     0,     0,     0,     0,\n",
      "             0,     0,     0,     0,     0,     0,     0,     0,     0,     0],\n",
      "        [ 8747,    10, 19491,    76,     6,     3,     9,  8401,  1201,    18,\n",
      "          1490,     3,   157,    32,   138,     9,     6,    19,   223,    11,\n",
      "           271,  7122,    91,    57,     3,     9, 26111,     3,     5,   216,\n",
      "          1869,     8,   239,  9182,    16,     3,     9,  2195,   306,   756,\n",
      "           112,  6981,     3,     5,   465,    80,  4054,  1776,   149,     3,\n",
      "            88,   530,    91,     6,    68,     3,    88,     3, 12151,   150,\n",
      "          5129,    12,     8,   452,     3,     5,    37,  6981,    65,     3,\n",
      "             9,  1793,   138,     9,  5184,     6,    68, 19491,    76,    31,\n",
      "             7,  1546,  5291,    29,    23,    18,  2376,   888,    47,    59,\n",
      "          4682,    30,  1861,     3,     5,     1,     0,     0,     0,     0,\n",
      "             0,     0,     0,     0,     0,     0,     0,     0,     0,     0,\n",
      "             0,     0,     0,     0,     0,     0,     0,     0,     0,     0,\n",
      "             0,     0,     0,     0,     0,     0,     0,     0,     0,     0,\n",
      "             0,     0,     0,     0,     0,     0,     0,     0,     0,     0,\n",
      "             0,     0,     0,     0,     0,     0,     0,     0,     0,     0]])}\n"
     ]
    }
   ],
   "source": [
    "for batch in train_dataloader:\n",
    "    \n",
    "    print(\"First batch in train_dataloader:\")\n",
    "    print(batch)  \n",
    "    \n",
    "    break"
   ]
  },
  {
   "cell_type": "code",
   "execution_count": 34,
   "metadata": {
    "execution": {
     "iopub.execute_input": "2025-02-10T18:10:00.882011Z",
     "iopub.status.busy": "2025-02-10T18:10:00.881744Z",
     "iopub.status.idle": "2025-02-10T18:10:00.909722Z",
     "shell.execute_reply": "2025-02-10T18:10:00.909032Z",
     "shell.execute_reply.started": "2025-02-10T18:10:00.881985Z"
    },
    "trusted": true
   },
   "outputs": [
    {
     "name": "stderr",
     "output_type": "stream",
     "text": [
      "/usr/local/lib/python3.10/dist-packages/transformers/optimization.py:591: FutureWarning: This implementation of AdamW is deprecated and will be removed in a future version. Use the PyTorch implementation torch.optim.AdamW instead, or set `no_deprecation_warning=True` to disable this warning\n",
      "  warnings.warn(\n"
     ]
    }
   ],
   "source": [
    "from transformers import AdamW\n",
    "\n",
    "optimizer = AdamW(model.parameters(), lr=3e-5, weight_decay=0.001)"
   ]
  },
  {
   "cell_type": "code",
   "execution_count": 35,
   "metadata": {
    "execution": {
     "iopub.execute_input": "2025-02-10T18:10:00.910615Z",
     "iopub.status.busy": "2025-02-10T18:10:00.910378Z",
     "iopub.status.idle": "2025-02-10T18:10:06.349078Z",
     "shell.execute_reply": "2025-02-10T18:10:06.348259Z",
     "shell.execute_reply.started": "2025-02-10T18:10:00.910595Z"
    },
    "trusted": true
   },
   "outputs": [
    {
     "name": "stdout",
     "output_type": "stream",
     "text": [
      "Collecting rouge_score\n",
      "  Downloading rouge_score-0.1.2.tar.gz (17 kB)\n",
      "  Preparing metadata (setup.py) ... \u001b[?25l\u001b[?25hdone\n",
      "Requirement already satisfied: absl-py in /usr/local/lib/python3.10/dist-packages (from rouge_score) (1.4.0)\n",
      "Requirement already satisfied: nltk in /usr/local/lib/python3.10/dist-packages (from rouge_score) (3.2.4)\n",
      "Requirement already satisfied: numpy in /usr/local/lib/python3.10/dist-packages (from rouge_score) (1.26.4)\n",
      "Requirement already satisfied: six>=1.14.0 in /usr/local/lib/python3.10/dist-packages (from rouge_score) (1.17.0)\n",
      "Requirement already satisfied: mkl_fft in /usr/local/lib/python3.10/dist-packages (from numpy->rouge_score) (1.3.8)\n",
      "Requirement already satisfied: mkl_random in /usr/local/lib/python3.10/dist-packages (from numpy->rouge_score) (1.2.4)\n",
      "Requirement already satisfied: mkl_umath in /usr/local/lib/python3.10/dist-packages (from numpy->rouge_score) (0.1.1)\n",
      "Requirement already satisfied: mkl in /usr/local/lib/python3.10/dist-packages (from numpy->rouge_score) (2025.0.1)\n",
      "Requirement already satisfied: tbb4py in /usr/local/lib/python3.10/dist-packages (from numpy->rouge_score) (2022.0.0)\n",
      "Requirement already satisfied: mkl-service in /usr/local/lib/python3.10/dist-packages (from numpy->rouge_score) (2.4.1)\n",
      "Requirement already satisfied: intel-openmp>=2024 in /usr/local/lib/python3.10/dist-packages (from mkl->numpy->rouge_score) (2024.2.0)\n",
      "Requirement already satisfied: tbb==2022.* in /usr/local/lib/python3.10/dist-packages (from mkl->numpy->rouge_score) (2022.0.0)\n",
      "Requirement already satisfied: tcmlib==1.* in /usr/local/lib/python3.10/dist-packages (from tbb==2022.*->mkl->numpy->rouge_score) (1.2.0)\n",
      "Requirement already satisfied: intel-cmplr-lib-rt in /usr/local/lib/python3.10/dist-packages (from mkl_umath->numpy->rouge_score) (2024.2.0)\n",
      "Requirement already satisfied: intel-cmplr-lib-ur==2024.2.0 in /usr/local/lib/python3.10/dist-packages (from intel-openmp>=2024->mkl->numpy->rouge_score) (2024.2.0)\n",
      "Building wheels for collected packages: rouge_score\n",
      "  Building wheel for rouge_score (setup.py) ... \u001b[?25l\u001b[?25hdone\n",
      "  Created wheel for rouge_score: filename=rouge_score-0.1.2-py3-none-any.whl size=24935 sha256=67ecbb1381fe8a1882d3883416f7eb18a01351cf019d39bec1987ca0a44a37e8\n",
      "  Stored in directory: /root/.cache/pip/wheels/5f/dd/89/461065a73be61a532ff8599a28e9beef17985c9e9c31e541b4\n",
      "Successfully built rouge_score\n",
      "Installing collected packages: rouge_score\n",
      "Successfully installed rouge_score-0.1.2\n"
     ]
    }
   ],
   "source": [
    "!pip install rouge_score"
   ]
  },
  {
   "cell_type": "code",
   "execution_count": 56,
   "metadata": {
    "execution": {
     "iopub.execute_input": "2025-02-10T21:31:40.971245Z",
     "iopub.status.busy": "2025-02-10T21:31:40.970900Z",
     "iopub.status.idle": "2025-02-10T21:31:44.464771Z",
     "shell.execute_reply": "2025-02-10T21:31:44.463681Z",
     "shell.execute_reply.started": "2025-02-10T21:31:40.971217Z"
    },
    "trusted": true
   },
   "outputs": [],
   "source": [
    "!pip install sentencepiece --q"
   ]
  },
  {
   "cell_type": "code",
   "execution_count": 57,
   "metadata": {
    "execution": {
     "iopub.execute_input": "2025-02-10T21:31:47.607651Z",
     "iopub.status.busy": "2025-02-10T21:31:47.607283Z",
     "iopub.status.idle": "2025-02-10T21:31:51.001944Z",
     "shell.execute_reply": "2025-02-10T21:31:51.000931Z",
     "shell.execute_reply.started": "2025-02-10T21:31:47.607617Z"
    },
    "trusted": true
   },
   "outputs": [],
   "source": [
    "!pip install huggingface_hub --q"
   ]
  },
  {
   "cell_type": "code",
   "execution_count": null,
   "metadata": {
    "execution": {
     "iopub.execute_input": "2025-02-10T21:32:05.771456Z",
     "iopub.status.busy": "2025-02-10T21:32:05.771093Z",
     "iopub.status.idle": "2025-02-10T21:32:05.930081Z",
     "shell.execute_reply": "2025-02-10T21:32:05.929452Z",
     "shell.execute_reply.started": "2025-02-10T21:32:05.771425Z"
    },
    "trusted": true
   },
   "outputs": [
    {
     "name": "stderr",
     "output_type": "stream",
     "text": [
      "Note: Environment variable`HF_TOKEN` is set and is the current active token independently from the token you've just configured.\n"
     ]
    }
   ],
   "source": [
    "from huggingface_hub import login\n",
    "\n",
    "login()"
   ]
  },
  {
   "cell_type": "code",
   "execution_count": 40,
   "metadata": {
    "execution": {
     "iopub.execute_input": "2025-02-10T18:10:06.408406Z",
     "iopub.status.busy": "2025-02-10T18:10:06.408087Z",
     "iopub.status.idle": "2025-02-10T18:10:07.785327Z",
     "shell.execute_reply": "2025-02-10T18:10:07.784690Z",
     "shell.execute_reply.started": "2025-02-10T18:10:06.408377Z"
    },
    "trusted": true
   },
   "outputs": [
    {
     "data": {
      "application/vnd.jupyter.widget-view+json": {
       "model_id": "84df565697364c32b36f42b54680a52f",
       "version_major": 2,
       "version_minor": 0
      },
      "text/plain": [
       "Downloading builder script:   0%|          | 0.00/6.27k [00:00<?, ?B/s]"
      ]
     },
     "metadata": {},
     "output_type": "display_data"
    }
   ],
   "source": [
    "import evaluate\n",
    "\n",
    "rouge_metric = evaluate.load(\"rouge\")"
   ]
  },
  {
   "cell_type": "code",
   "execution_count": 41,
   "metadata": {
    "execution": {
     "iopub.execute_input": "2025-02-10T18:10:07.786506Z",
     "iopub.status.busy": "2025-02-10T18:10:07.786190Z",
     "iopub.status.idle": "2025-02-10T18:10:07.790498Z",
     "shell.execute_reply": "2025-02-10T18:10:07.789671Z",
     "shell.execute_reply.started": "2025-02-10T18:10:07.786474Z"
    },
    "trusted": true
   },
   "outputs": [],
   "source": [
    "def compute_rouge(predictions, references):\n",
    "\n",
    "  results = rouge_metric.compute(predictions=predictions, references=references)\n",
    "  return results"
   ]
  },
  {
   "cell_type": "code",
   "execution_count": 42,
   "metadata": {
    "execution": {
     "iopub.execute_input": "2025-02-10T18:10:07.791730Z",
     "iopub.status.busy": "2025-02-10T18:10:07.791422Z",
     "iopub.status.idle": "2025-02-10T18:10:07.807759Z",
     "shell.execute_reply": "2025-02-10T18:10:07.806967Z",
     "shell.execute_reply.started": "2025-02-10T18:10:07.791682Z"
    },
    "trusted": true
   },
   "outputs": [
    {
     "data": {
      "text/plain": [
       "12752"
      ]
     },
     "execution_count": 42,
     "metadata": {},
     "output_type": "execute_result"
    }
   ],
   "source": [
    "num_epochs = 2\n",
    "num_training_steps = num_epochs * len(train_dataloader)\n",
    "num_training_steps"
   ]
  },
  {
   "cell_type": "code",
   "execution_count": 43,
   "metadata": {
    "execution": {
     "iopub.execute_input": "2025-02-10T18:10:07.808744Z",
     "iopub.status.busy": "2025-02-10T18:10:07.808539Z",
     "iopub.status.idle": "2025-02-10T18:10:07.823170Z",
     "shell.execute_reply": "2025-02-10T18:10:07.822442Z",
     "shell.execute_reply.started": "2025-02-10T18:10:07.808726Z"
    },
    "trusted": true
   },
   "outputs": [
    {
     "data": {
      "text/plain": [
       "1330"
      ]
     },
     "execution_count": 43,
     "metadata": {},
     "output_type": "execute_result"
    }
   ],
   "source": [
    "num_validation_steps = num_epochs * len(val_dataloader)\n",
    "num_validation_steps"
   ]
  },
  {
   "cell_type": "code",
   "execution_count": 44,
   "metadata": {
    "execution": {
     "iopub.execute_input": "2025-02-10T18:10:07.824242Z",
     "iopub.status.busy": "2025-02-10T18:10:07.823973Z",
     "iopub.status.idle": "2025-02-10T18:10:07.835032Z",
     "shell.execute_reply": "2025-02-10T18:10:07.834364Z",
     "shell.execute_reply.started": "2025-02-10T18:10:07.824214Z"
    },
    "trusted": true
   },
   "outputs": [],
   "source": [
    "from transformers import get_scheduler\n",
    "\n",
    "lr_scheduler = get_scheduler( \"linear\", optimizer = optimizer , num_warmup_steps = 0 , num_training_steps = num_training_steps)"
   ]
  },
  {
   "cell_type": "code",
   "execution_count": 45,
   "metadata": {
    "execution": {
     "iopub.execute_input": "2025-02-10T18:10:07.835989Z",
     "iopub.status.busy": "2025-02-10T18:10:07.835740Z",
     "iopub.status.idle": "2025-02-10T18:10:07.869814Z",
     "shell.execute_reply": "2025-02-10T18:10:07.869057Z",
     "shell.execute_reply.started": "2025-02-10T18:10:07.835962Z"
    },
    "trusted": true
   },
   "outputs": [
    {
     "data": {
      "application/vnd.jupyter.widget-view+json": {
       "model_id": "5ea8cb883b6e419894793884404eb8a0",
       "version_major": 2,
       "version_minor": 0
      },
      "text/plain": [
       "  0%|          | 0/12752 [00:00<?, ?it/s]"
      ]
     },
     "metadata": {},
     "output_type": "display_data"
    },
    {
     "data": {
      "application/vnd.jupyter.widget-view+json": {
       "model_id": "cabaf93d5eee48e68b9a126b3308d410",
       "version_major": 2,
       "version_minor": 0
      },
      "text/plain": [
       "  0%|          | 0/1330 [00:00<?, ?it/s]"
      ]
     },
     "metadata": {},
     "output_type": "display_data"
    }
   ],
   "source": [
    "from tqdm.auto import tqdm\n",
    "\n",
    "progress_bar_for_training = tqdm(range(num_training_steps))\n",
    "progress_bar_for_validation = tqdm(range(num_validation_steps))"
   ]
  },
  {
   "cell_type": "code",
   "execution_count": 46,
   "metadata": {
    "execution": {
     "iopub.execute_input": "2025-02-10T18:10:07.870966Z",
     "iopub.status.busy": "2025-02-10T18:10:07.870697Z",
     "iopub.status.idle": "2025-02-10T18:10:08.431243Z",
     "shell.execute_reply": "2025-02-10T18:10:08.430521Z",
     "shell.execute_reply.started": "2025-02-10T18:10:07.870937Z"
    },
    "trusted": true
   },
   "outputs": [
    {
     "name": "stdout",
     "output_type": "stream",
     "text": [
      "Model set to GPU\n"
     ]
    }
   ],
   "source": [
    "import torch\n",
    "\n",
    "device = torch.device(\"cuda\" if torch.cuda.is_available() else \"cpu\")\n",
    "model.to(device)\n",
    "\n",
    "if torch.cuda.is_available():\n",
    "  print(\"Model set to GPU\")"
   ]
  },
  {
   "cell_type": "code",
   "execution_count": 47,
   "metadata": {
    "execution": {
     "iopub.execute_input": "2025-02-10T18:10:08.432425Z",
     "iopub.status.busy": "2025-02-10T18:10:08.432068Z",
     "iopub.status.idle": "2025-02-10T18:10:08.436905Z",
     "shell.execute_reply": "2025-02-10T18:10:08.436263Z",
     "shell.execute_reply.started": "2025-02-10T18:10:08.432374Z"
    },
    "trusted": true
   },
   "outputs": [],
   "source": [
    "def train_epoch():\n",
    "\n",
    "  total_train_loss = 0\n",
    "\n",
    "  for batch in train_dataloader:\n",
    "\n",
    "    batch = {k: v.to(device) for k, v in batch.items()}\n",
    "    outputs = model(**batch)\n",
    "    loss = outputs.loss\n",
    "    loss.backward()\n",
    "\n",
    "    optimizer.step()\n",
    "    lr_scheduler.step()\n",
    "    optimizer.zero_grad()\n",
    "    progress_bar_for_training.update(1)\n",
    "\n",
    "    total_train_loss += loss.item()\n",
    "\n",
    "  return total_train_loss"
   ]
  },
  {
   "cell_type": "code",
   "execution_count": 48,
   "metadata": {
    "execution": {
     "iopub.execute_input": "2025-02-10T18:10:08.437790Z",
     "iopub.status.busy": "2025-02-10T18:10:08.437582Z",
     "iopub.status.idle": "2025-02-10T18:10:08.451207Z",
     "shell.execute_reply": "2025-02-10T18:10:08.450524Z",
     "shell.execute_reply.started": "2025-02-10T18:10:08.437770Z"
    },
    "trusted": true
   },
   "outputs": [],
   "source": [
    "def get_val_loss():\n",
    "\n",
    "  total_val_loss = 0\n",
    "  all_generated_summaries = []\n",
    "  all_references = []\n",
    "\n",
    "  with torch.no_grad():\n",
    "\n",
    "    for batch in val_dataloader:\n",
    "\n",
    "      batch = {k: v.to(device) for k, v in batch.items()}\n",
    "\n",
    "      generated_ids = model.generate( batch['input_ids'], attention_mask = batch['attention_mask'] , early_stopping=True)\n",
    "      generated_summaries = tokenizer.batch_decode(generated_ids, skip_special_tokens=True)\n",
    "      reference_summaries = tokenizer.batch_decode(batch['labels'], skip_special_tokens=True)\n",
    "\n",
    "\n",
    "      all_generated_summaries.extend(generated_summaries)\n",
    "      all_references.extend(reference_summaries)\n",
    "\n",
    "      outputs = model(**batch)\n",
    "      loss = outputs.loss\n",
    "      total_val_loss += loss.item()\n",
    "\n",
    "      progress_bar_for_validation.update(1)\n",
    "\n",
    "  rouge_results = compute_rouge(all_generated_summaries, all_references)\n",
    "\n",
    "  return total_val_loss , rouge_results"
   ]
  },
  {
   "cell_type": "code",
   "execution_count": 50,
   "metadata": {
    "execution": {
     "iopub.execute_input": "2025-02-10T18:11:24.618057Z",
     "iopub.status.busy": "2025-02-10T18:11:24.617715Z",
     "iopub.status.idle": "2025-02-10T21:03:20.342811Z",
     "shell.execute_reply": "2025-02-10T21:03:20.342030Z",
     "shell.execute_reply.started": "2025-02-10T18:11:24.618033Z"
    },
    "trusted": true
   },
   "outputs": [
    {
     "name": "stderr",
     "output_type": "stream",
     "text": [
      "Passing a tuple of `past_key_values` is deprecated and will be removed in Transformers v4.48.0. You should pass an instance of `EncoderDecoderCache` instead, e.g. `past_key_values=EncoderDecoderCache.from_legacy_cache(past_key_values)`.\n",
      "/usr/local/lib/python3.10/dist-packages/transformers/generation/configuration_utils.py:676: UserWarning: `num_beams` is set to 1. However, `early_stopping` is set to `True` -- this flag is only used in beam-based generation modes. You should set `num_beams>1` or unset `early_stopping`.\n",
      "  warnings.warn(\n"
     ]
    },
    {
     "name": "stdout",
     "output_type": "stream",
     "text": [
      "Epoch 1 - Training loss: 0.6159\n",
      "Epoch 1 - Validation loss: 0.5574\n",
      "ROUGE Scores:  {'rouge1': 0.29927710148142744, 'rouge2': 0.15573206693296904, 'rougeL': 0.24942864018996758, 'rougeLsum': 0.24969390412576836}\n",
      "------------------------------------------------------------------------------------------------------------------------------------------------------\n",
      "Epoch 2 - Training loss: 0.5036\n",
      "Epoch 2 - Validation loss: 0.5508\n",
      "ROUGE Scores:  {'rouge1': 0.29952331925567954, 'rouge2': 0.15580735301627271, 'rougeL': 0.24962684096005475, 'rougeLsum': 0.24989983136965138}\n",
      "------------------------------------------------------------------------------------------------------------------------------------------------------\n"
     ]
    }
   ],
   "source": [
    "for epoch in range(num_epochs):\n",
    "\n",
    "  model.train(True)\n",
    "  total_train_loss = train_epoch()\n",
    "\n",
    "  model.eval()\n",
    "  total_val_loss , rouge_results = get_val_loss()\n",
    "\n",
    "\n",
    "  avg_train_loss = total_train_loss / len(train_dataloader)\n",
    "  print(f\"Epoch {epoch+1} - Training loss: {avg_train_loss:.4f}\")\n",
    "\n",
    "  avg_val_loss = total_val_loss / len(val_dataloader)\n",
    "  print(f\"Epoch {epoch+1} - Validation loss: {avg_val_loss:.4f}\")\n",
    "\n",
    "  print(\"ROUGE Scores: \" , rouge_results)\n",
    "\n",
    "  print('-'*150)"
   ]
  },
  {
   "cell_type": "code",
   "execution_count": 51,
   "metadata": {
    "execution": {
     "iopub.execute_input": "2025-02-10T21:08:30.742492Z",
     "iopub.status.busy": "2025-02-10T21:08:30.742124Z",
     "iopub.status.idle": "2025-02-10T21:08:30.746483Z",
     "shell.execute_reply": "2025-02-10T21:08:30.745632Z",
     "shell.execute_reply.started": "2025-02-10T21:08:30.742460Z"
    },
    "trusted": true
   },
   "outputs": [],
   "source": [
    "text = \"\"\"\n",
    "           Ella found the old letter tucked in a dusty corner of the attic.\n",
    "           Its edges were worn, the ink faded, but the words were still legible:\n",
    "           \"Meet me where the stars touch the sea.\" Her heart raced. It was a message from Alex,\n",
    "           her first love, sent the night he left. She hadn't seen him in years.\n",
    "           Without thinking, she grabbed her coat and ran to the beach.\n",
    "           As the moonlight reflected off the water, she saw him standing there, waiting.\n",
    "           A smile spread across her face—some promises were never forgotten,\n",
    "           no matter how much time passed.\n",
    "           \"\"\""
   ]
  },
  {
   "cell_type": "code",
   "execution_count": 52,
   "metadata": {
    "execution": {
     "iopub.execute_input": "2025-02-10T21:09:04.504351Z",
     "iopub.status.busy": "2025-02-10T21:09:04.504025Z",
     "iopub.status.idle": "2025-02-10T21:09:04.513033Z",
     "shell.execute_reply": "2025-02-10T21:09:04.512252Z",
     "shell.execute_reply.started": "2025-02-10T21:09:04.504288Z"
    },
    "trusted": true
   },
   "outputs": [
    {
     "data": {
      "text/plain": [
       "{'input_ids': tensor([[  148,    33,     8,  2592,   222,   825,   664,     5,   863, 21603,\n",
       "             8,   826,  1499,    16,     3,     9, 22874,  3107,    10, 15334,\n",
       "             9,   435,     8,   625,  2068,     3,    17, 15318,    16,     3,\n",
       "             9,  5784,    63,  2752,    13,     8,    44,  1225,     5,    94,\n",
       "             7,  9804,   130,  8842,     6,     8,    16,   157, 14201,    26,\n",
       "             6,    68,     8,  1234,   130,   341,  4553,  2317,    10,    96,\n",
       "           329,    15,    15,    17,   140,   213,     8,  4811,  1586,     8,\n",
       "          2805,   535,  1347,   842,  1964,    26,     5,    94,    47,     3,\n",
       "             9,  1569,    45,  5104,     6,   160,   166,   333,     6,  1622,\n",
       "             8,   706,     3,    88,   646,     5,   451, 12381,    31,    17,\n",
       "           894,   376,    16,   203,     5,  6404,  1631,     6,   255, 19303,\n",
       "            26,   160,  6001,    11,  4037,    12,     8,  2608,     5,   282,\n",
       "             8,  8114,  2242,     3, 12999,   326,     8,   387,     6,   255,\n",
       "          1509,   376,  4125,   132,     6,  2794,     5,    71,  3993,  3060,\n",
       "           640,   160,   522,   318,  5529, 11236,   130,   470, 11821,     6,\n",
       "           150,  1052,   149,   231,    97,  2804,     5,     1]]), 'attention_mask': tensor([[1, 1, 1, 1, 1, 1, 1, 1, 1, 1, 1, 1, 1, 1, 1, 1, 1, 1, 1, 1, 1, 1, 1, 1,\n",
       "         1, 1, 1, 1, 1, 1, 1, 1, 1, 1, 1, 1, 1, 1, 1, 1, 1, 1, 1, 1, 1, 1, 1, 1,\n",
       "         1, 1, 1, 1, 1, 1, 1, 1, 1, 1, 1, 1, 1, 1, 1, 1, 1, 1, 1, 1, 1, 1, 1, 1,\n",
       "         1, 1, 1, 1, 1, 1, 1, 1, 1, 1, 1, 1, 1, 1, 1, 1, 1, 1, 1, 1, 1, 1, 1, 1,\n",
       "         1, 1, 1, 1, 1, 1, 1, 1, 1, 1, 1, 1, 1, 1, 1, 1, 1, 1, 1, 1, 1, 1, 1, 1,\n",
       "         1, 1, 1, 1, 1, 1, 1, 1, 1, 1, 1, 1, 1, 1, 1, 1, 1, 1, 1, 1, 1, 1, 1, 1,\n",
       "         1, 1, 1, 1, 1, 1, 1, 1, 1, 1, 1, 1, 1, 1]])}"
      ]
     },
     "execution_count": 52,
     "metadata": {},
     "output_type": "execute_result"
    }
   ],
   "source": [
    "inputs = tokenizer((prompt+text), max_length=512, truncation=True, return_tensors=\"pt\")\n",
    "inputs"
   ]
  },
  {
   "cell_type": "code",
   "execution_count": 53,
   "metadata": {
    "execution": {
     "iopub.execute_input": "2025-02-10T21:09:39.956246Z",
     "iopub.status.busy": "2025-02-10T21:09:39.955952Z",
     "iopub.status.idle": "2025-02-10T21:09:40.300647Z",
     "shell.execute_reply": "2025-02-10T21:09:40.299967Z",
     "shell.execute_reply.started": "2025-02-10T21:09:39.956225Z"
    },
    "trusted": true
   },
   "outputs": [
    {
     "data": {
      "text/plain": [
       "tensor([[    0, 15334,     9,   435,    46,   625,  2068,    16,     8,    44,\n",
       "          1225,     6,    11,   608,    34,    28,     3,     9,  3993,     3,\n",
       "             5]], device='cuda:0')"
      ]
     },
     "execution_count": 53,
     "metadata": {},
     "output_type": "execute_result"
    }
   ],
   "source": [
    "summary_ids = model.generate(inputs['input_ids'].to(device))\n",
    "                            \n",
    "summary_ids"
   ]
  },
  {
   "cell_type": "code",
   "execution_count": 54,
   "metadata": {
    "execution": {
     "iopub.execute_input": "2025-02-10T21:09:54.237152Z",
     "iopub.status.busy": "2025-02-10T21:09:54.236866Z",
     "iopub.status.idle": "2025-02-10T21:09:54.242150Z",
     "shell.execute_reply": "2025-02-10T21:09:54.241313Z",
     "shell.execute_reply.started": "2025-02-10T21:09:54.237131Z"
    },
    "trusted": true
   },
   "outputs": [
    {
     "name": "stdout",
     "output_type": "stream",
     "text": [
      "Ella found an old letter in the attic, and read it with a smile .\n"
     ]
    }
   ],
   "source": [
    "summary = tokenizer.decode(summary_ids[0], skip_special_tokens=True)\n",
    "print(summary)"
   ]
  },
  {
   "cell_type": "code",
   "execution_count": 55,
   "metadata": {
    "execution": {
     "iopub.execute_input": "2025-02-10T21:22:50.858534Z",
     "iopub.status.busy": "2025-02-10T21:22:50.858167Z",
     "iopub.status.idle": "2025-02-10T21:22:50.864035Z",
     "shell.execute_reply": "2025-02-10T21:22:50.863069Z",
     "shell.execute_reply.started": "2025-02-10T21:22:50.858509Z"
    },
    "trusted": true
   },
   "outputs": [
    {
     "data": {
      "text/plain": [
       "20"
      ]
     },
     "execution_count": 55,
     "metadata": {},
     "output_type": "execute_result"
    }
   ],
   "source": [
    "model.config.max_length"
   ]
  },
  {
   "cell_type": "code",
   "execution_count": 60,
   "metadata": {
    "execution": {
     "iopub.execute_input": "2025-02-10T21:37:45.003525Z",
     "iopub.status.busy": "2025-02-10T21:37:45.003157Z",
     "iopub.status.idle": "2025-02-10T21:37:46.416763Z",
     "shell.execute_reply": "2025-02-10T21:37:46.416067Z",
     "shell.execute_reply.started": "2025-02-10T21:37:45.003498Z"
    },
    "trusted": true
   },
   "outputs": [],
   "source": [
    "model.save_pretrained(\"./my_finetuned_model\")\n",
    "tokenizer.save_pretrained(\"./my_finetuned_model\")\n",
    "model.config.save_pretrained(\"./my_finetuned_model\")"
   ]
  },
  {
   "cell_type": "code",
   "execution_count": 62,
   "metadata": {
    "execution": {
     "iopub.execute_input": "2025-02-10T21:39:30.730730Z",
     "iopub.status.busy": "2025-02-10T21:39:30.730413Z",
     "iopub.status.idle": "2025-02-10T21:39:37.777780Z",
     "shell.execute_reply": "2025-02-10T21:39:37.777082Z",
     "shell.execute_reply.started": "2025-02-10T21:39:30.730708Z"
    },
    "trusted": true
   },
   "outputs": [
    {
     "name": "stderr",
     "output_type": "stream",
     "text": [
      "No files have been modified since last commit. Skipping to prevent empty commit.\n",
      "No files have been modified since last commit. Skipping to prevent empty commit.\n"
     ]
    },
    {
     "data": {
      "application/vnd.jupyter.widget-view+json": {
       "model_id": "b003d2e123b346a88ef244bb29b38c41",
       "version_major": 2,
       "version_minor": 0
      },
      "text/plain": [
       "spiece.model:   0%|          | 0.00/792k [00:00<?, ?B/s]"
      ]
     },
     "metadata": {},
     "output_type": "display_data"
    },
    {
     "data": {
      "text/plain": [
       "CommitInfo(commit_url='https://huggingface.co/Salwaaaa/t5-base-finetuned-summarize-dailymail/commit/084f9e22348fa816d52793d6499c6a761ac7f43c', commit_message='Upload tokenizer', commit_description='', oid='084f9e22348fa816d52793d6499c6a761ac7f43c', pr_url=None, repo_url=RepoUrl('https://huggingface.co/Salwaaaa/t5-base-finetuned-summarize-dailymail', endpoint='https://huggingface.co', repo_type='model', repo_id='Salwaaaa/t5-base-finetuned-summarize-dailymail'), pr_revision=None, pr_num=None)"
      ]
     },
     "execution_count": 62,
     "metadata": {},
     "output_type": "execute_result"
    }
   ],
   "source": [
    "model.push_to_hub(\"Salwaaaa/t5-base-finetuned-summarize-dailymail\")\n",
    "model.config.push_to_hub(\"Salwaaaa/t5-base-finetuned-summarize-dailymail\")\n",
    "tokenizer.push_to_hub(\"Salwaaaa/t5-base-finetuned-summarize-dailymail\")"
   ]
  }
 ],
 "metadata": {
  "kaggle": {
   "accelerator": "nvidiaTeslaT4",
   "dataSources": [],
   "dockerImageVersionId": 30887,
   "isGpuEnabled": true,
   "isInternetEnabled": true,
   "language": "python",
   "sourceType": "notebook"
  },
  "kernelspec": {
   "display_name": "Python 3",
   "language": "python",
   "name": "python3"
  },
  "language_info": {
   "codemirror_mode": {
    "name": "ipython",
    "version": 3
   },
   "file_extension": ".py",
   "mimetype": "text/x-python",
   "name": "python",
   "nbconvert_exporter": "python",
   "pygments_lexer": "ipython3",
   "version": "3.10.12"
  }
 },
 "nbformat": 4,
 "nbformat_minor": 4
}
